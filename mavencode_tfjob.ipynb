{
  "nbformat": 4,
  "nbformat_minor": 0,
  "metadata": {
    "colab": {
      "name": "mavencode-tfjob.ipynb",
      "provenance": [],
      "collapsed_sections": [],
      "authorship_tag": "ABX9TyMFKp31Hm+i2M1HIp2FXuxy",
      "include_colab_link": true
    },
    "kernelspec": {
      "name": "python3",
      "display_name": "Python 3"
    },
    "accelerator": "GPU"
  },
  "cells": [
    {
      "cell_type": "markdown",
      "metadata": {
        "id": "view-in-github",
        "colab_type": "text"
      },
      "source": [
        "<a href=\"https://colab.research.google.com/github/Josepholaidepetro/mavencode_tfjob/blob/main/mavencode_tfjob.ipynb\" target=\"_parent\"><img src=\"https://colab.research.google.com/assets/colab-badge.svg\" alt=\"Open In Colab\"/></a>"
      ]
    },
    {
      "cell_type": "code",
      "metadata": {
        "id": "iCwI6AOah0Qv",
        "colab": {
          "base_uri": "https://localhost:8080/",
          "height": 36
        },
        "outputId": "65b22015-fb12-497c-8a94-6babdba86148"
      },
      "source": [
        "import tensorflow as tf \n",
        "tf.test.gpu_device_name() "
      ],
      "execution_count": 1,
      "outputs": [
        {
          "output_type": "execute_result",
          "data": {
            "application/vnd.google.colaboratory.intrinsic+json": {
              "type": "string"
            },
            "text/plain": [
              "'/device:GPU:0'"
            ]
          },
          "metadata": {
            "tags": []
          },
          "execution_count": 1
        }
      ]
    },
    {
      "cell_type": "code",
      "metadata": {
        "id": "NpUH5-ENVOtA"
      },
      "source": [
        "# a quick neural network"
      ],
      "execution_count": 2,
      "outputs": []
    },
    {
      "cell_type": "code",
      "metadata": {
        "id": "Lb2VrBOzpWxj"
      },
      "source": [
        "import numpy as np\n",
        "from keras.datasets import mnist\n",
        "from keras.models import Sequential\n",
        "from keras.layers.core import Dense, Activation\n",
        "from keras.optimizers import SGD, Adam\n",
        "from keras.utils import np_utils\n",
        "import matplotlib.pyplot as plt\n",
        "from keras.layers.core import Dropout\n",
        "import logging\n",
        "import sys\n",
        "import argparse\n",
        "np.random.seed(1671)"
      ],
      "execution_count": 21,
      "outputs": []
    },
    {
      "cell_type": "markdown",
      "metadata": {
        "id": "xGMqENvfaney"
      },
      "source": [
        "Note: The following parameters below are key in the training of the network"
      ]
    },
    {
      "cell_type": "code",
      "metadata": {
        "id": "QlcLW2uNu5rY",
        "colab": {
          "base_uri": "https://localhost:8080/"
        },
        "outputId": "1250d70f-7d62-4c55-830e-ed07e905ae09"
      },
      "source": [
        "# network and training \n",
        "NB_EPOCH = 50\n",
        "BATCH_SIZE = 128\n",
        "VERBOSE = 1\n",
        "NB_CLASSES = 10                              # class labels\n",
        "OPTIMIZER = Adam()\n",
        "N_HIDDEN = 128\n",
        "\n",
        "(X_train, y_train), (X_test, y_test) = mnist.load_data()\n",
        "\n",
        "X_train.shape, y_train.shape, X_test.shape, y_test.shape  # prints Training data: (60000, 28, 28), (60000,) \n",
        "                                                          # prints Test data: (10000, 28, 28), (10000,)"
      ],
      "execution_count": 4,
      "outputs": [
        {
          "output_type": "stream",
          "text": [
            "Downloading data from https://storage.googleapis.com/tensorflow/tf-keras-datasets/mnist.npz\n",
            "11493376/11490434 [==============================] - 0s 0us/step\n"
          ],
          "name": "stdout"
        },
        {
          "output_type": "execute_result",
          "data": {
            "text/plain": [
              "((60000, 28, 28), (60000,), (10000, 28, 28), (10000,))"
            ]
          },
          "metadata": {
            "tags": []
          },
          "execution_count": 4
        }
      ]
    },
    {
      "cell_type": "code",
      "metadata": {
        "id": "MyopxDRNYMOH",
        "colab": {
          "base_uri": "https://localhost:8080/"
        },
        "outputId": "d1d72af1-5f01-47ff-c6c1-39596dc78d62"
      },
      "source": [
        "class_labels = np.unique(y_train)\n",
        "print(\"There are {} classes in the dataset. They are: {}\".format(len(class_labels), class_labels))\n",
        "# prints There are 10 classes in the dataset. They are: [0 1 2 3 4 5 6 7 8 9]"
      ],
      "execution_count": 5,
      "outputs": [
        {
          "output_type": "stream",
          "text": [
            "There are 10 classes in the dataset. They are: [0 1 2 3 4 5 6 7 8 9]\n"
          ],
          "name": "stdout"
        }
      ]
    },
    {
      "cell_type": "code",
      "metadata": {
        "id": "Mcceq9uYYffj",
        "colab": {
          "base_uri": "https://localhost:8080/",
          "height": 195
        },
        "outputId": "ebc62e1b-0a32-4f6d-8b8a-5c2abac1fbad"
      },
      "source": [
        "plt.figure(figsize=(8, 5))\n",
        "\n",
        "plt.subplot(1,3,1)\n",
        "plt.imshow(X_train[0])\n",
        "plt.title(\"Label: {}\".format(y_train[0]))\n",
        "\n",
        "plt.subplot(1,3,2)\n",
        "plt.imshow(X_train[2500])\n",
        "plt.title(\"Label: {}\".format(y_train[2500]))\n",
        "\n",
        "plt.subplot(1,3,3)\n",
        "plt.imshow(X_test[12])\n",
        "plt.title(\"Label: {}\".format(y_test[12]))\n",
        "\n",
        "plt.show()"
      ],
      "execution_count": 6,
      "outputs": [
        {
          "output_type": "display_data",
          "data": {
            "image/png": "[encoded data removed]",
            "text/plain": [
              "<Figure size 576x360 with 3 Axes>"
            ]
          },
          "metadata": {
            "tags": [],
            "needs_background": "light"
          }
        }
      ]
    },
    {
      "cell_type": "code",
      "metadata": {
        "id": "h6i9X2wVXIZZ"
      },
      "source": [
        "RESHAPED = 28 * 28"
      ],
      "execution_count": 7,
      "outputs": []
    },
    {
      "cell_type": "code",
      "metadata": {
        "id": "K_Ofz1WOyF3J"
      },
      "source": [
        "X_train = X_train.reshape(60000,RESHAPED)\n",
        "X_test = X_test.reshape(10000, RESHAPED)\n",
        "X_train = X_train.astype('float32')\n",
        "X_test = X_test.astype('float32')\n"
      ],
      "execution_count": 8,
      "outputs": []
    },
    {
      "cell_type": "markdown",
      "metadata": {
        "id": "RbApH9_mXcfZ"
      },
      "source": [
        "As usual, we scale our dataset to range between 0 and 1. In this dataset, the pixel values range from 0 to 255.\n",
        "Dividing the data by 255 scales to the required range"
      ]
    },
    {
      "cell_type": "code",
      "metadata": {
        "id": "uCBX7x7Iy8EK",
        "colab": {
          "base_uri": "https://localhost:8080/"
        },
        "outputId": "836d9534-459b-482a-ae2a-0074105eec4b"
      },
      "source": [
        "X_train /= 255     # rescaling\n",
        "X_test /= 255\n",
        "\n",
        "print(X_train.shape[0], 'train samples')\n",
        "print(X_test.shape[0], 'test samples')"
      ],
      "execution_count": 9,
      "outputs": [
        {
          "output_type": "stream",
          "text": [
            "60000 train samples\n",
            "10000 test samples\n"
          ],
          "name": "stdout"
        }
      ]
    },
    {
      "cell_type": "code",
      "metadata": {
        "id": "hoQyEigIzdOn",
        "colab": {
          "base_uri": "https://localhost:8080/"
        },
        "outputId": "2acd9902-f226-452c-bcc9-c0ea81766052"
      },
      "source": [
        "Y_train = np_utils.to_categorical(y_train, NB_CLASSES)    # encode to_categorical variable\n",
        "Y_test = np_utils.to_categorical(y_test, NB_CLASSES)\n",
        "print(Y_train.shape, 'train labels')\n",
        "print(Y_test.shape, 'test labels')"
      ],
      "execution_count": 10,
      "outputs": [
        {
          "output_type": "stream",
          "text": [
            "(60000, 10) train labels\n",
            "(10000, 10) test labels\n"
          ],
          "name": "stdout"
        }
      ]
    },
    {
      "cell_type": "code",
      "metadata": {
        "colab": {
          "base_uri": "https://localhost:8080/",
          "height": 192
        },
        "id": "LPX9t_CZQZbT",
        "outputId": "4f30f01d-1361-444e-d0d1-7b6f15914b8c"
      },
      "source": [
        "def make_datasets(X_train, Y_train, X_test, Y_test, mode, batch_size=256):\r\n",
        "  if mode == tf.estimator.ModeKeys.TRAIN:\r\n",
        "    dataset = tf.data.Dataset.from_tensor_slices((X_train, Y_train))\r\n",
        "    num_epochs = None # indefinitely\r\n",
        "    dataset = dataset.shuffle(buffer_size=10*batch_size)\r\n",
        "  else:\r\n",
        "    dataset = tf.data.Dataset.from_tensor_slices((X_test, Y_test))\r\n",
        "    num_epochs = 1 # end-of-input after this\r\n",
        " \r\n",
        "  dataset = dataset.repeat(num_epochs).batch(batch_size)\r\n",
        "  return dataset\r\n",
        "\r\n",
        "def main(args):\r\n",
        "  # Define a Keras Model.\r\n",
        "  NB_CLASSES = 10 \r\n",
        "  OPTIMIZER = Adam()\r\n",
        "  N_HIDDEN = 128\r\n",
        "  DROPOUT = 0.3\r\n",
        "  RESHAPED = 784\r\n",
        "\r\n",
        "  model = Sequential()\r\n",
        "  model.add(Dense(N_HIDDEN,input_shape=(RESHAPED,)))\r\n",
        "  model.add(Activation('relu'))\r\n",
        "  model.add(Dropout(DROPOUT))\r\n",
        "  model.add(Dense(N_HIDDEN))\r\n",
        "  model.add(Activation('relu'))\r\n",
        "  model.add(Dropout(DROPOUT))\r\n",
        "  model.add(Dense(NB_CLASSES))\r\n",
        "  model.add(Activation('softmax'))\r\n",
        "\r\n",
        "  model.compile(loss='categorical_crossentropy',optimizer=OPTIMIZER,\r\n",
        "              metrics=['accuracy'])\r\n",
        "  \r\n",
        "  model.summary()\r\n",
        "  tf.keras.backend.set_learning_phase(True)\r\n",
        "\r\n",
        "  model_dir = args.saved_model_dir\r\n",
        "  print('Using %s to store checkpoints.' % model_dir)\r\n",
        "\r\n",
        "  # Define DistributionStrategies and convert the Keras Model to an\r\n",
        "  # Estimator that utilizes these DistributionStrateges.\r\n",
        "  # Evaluator is a single worker, so using MirroredStrategy.\r\n",
        "  config = tf.estimator.RunConfig(\r\n",
        "      experimental_distribute=tf.contrib.distribute.DistributeConfig(\r\n",
        "          train_distribute=tf.contrib.distribute.CollectiveAllReduceStrategy(\r\n",
        "              num_gpus_per_worker=0),\r\n",
        "          eval_distribute=tf.contrib.distribute.MirroredStrategy(\r\n",
        "              num_gpus_per_worker=0)))\r\n",
        "  keras_estimator = tf.keras.estimator.model_to_estimator(\r\n",
        "      keras_model=model, config=config, model_dir=model_dir)\r\n",
        "\r\n",
        "  # Train and evaluate the model. Evaluation will be skipped if there is not an\r\n",
        "  # \"evaluator\" job in the cluster.\r\n",
        "  tf.estimator.train_and_evaluate(\r\n",
        "      keras_estimator,\r\n",
        "      train_spec=tf.estimator.TrainSpec(input_fn=make_datasets(X_train, Y_train, X_test, Y_test, mode=tf.estimator.ModeKeys.TRAIN, batch_size=256)),\r\n",
        "      eval_spec=tf.estimator.EvalSpec(input_fn=make_datasets(X_train, Y_train, X_test, Y_test, mode=tf.estimator.ModeKeys.EVAL, batch_size=256)))\r\n",
        "\r\n",
        "\r\n",
        "if __name__ == '__main__':\r\n",
        "  logger = tf.get_logger()\r\n",
        "  logger.setLevel(logging.INFO)\r\n",
        "  parser = argparse.ArgumentParser()\r\n",
        "  parser.add_argument('--saved_model_dir',\r\n",
        "                      type=str,\r\n",
        "                      required=True,\r\n",
        "                      help='Tensorflow export directory.')\r\n",
        "\r\n",
        "  parsed_args = parser.parse_args()\r\n",
        "  tf.compat.v1.app.run(argv=sys.argv)\r\n",
        "  main(parsed_args)"
      ],
      "execution_count": 23,
      "outputs": [
        {
          "output_type": "stream",
          "text": [
            "usage: ipykernel_launcher.py [-h] --saved_model_dir SAVED_MODEL_DIR\n",
            "ipykernel_launcher.py: error: the following arguments are required: --saved_model_dir\n"
          ],
          "name": "stderr"
        },
        {
          "output_type": "error",
          "ename": "SystemExit",
          "evalue": "ignored",
          "traceback": [
            "An exception has occurred, use %tb to see the full traceback.\n",
            "\u001b[0;31mSystemExit\u001b[0m\u001b[0;31m:\u001b[0m 2\n"
          ]
        },
        {
          "output_type": "stream",
          "text": [
            "/usr/local/lib/python3.6/dist-packages/IPython/core/interactiveshell.py:2890: UserWarning: To exit: use 'exit', 'quit', or Ctrl-D.\n",
            "  warn(\"To exit: use 'exit', 'quit', or Ctrl-D.\", stacklevel=1)\n"
          ],
          "name": "stderr"
        }
      ]
    },
    {
      "cell_type": "code",
      "metadata": {
        "id": "mKOA8bqudt2J"
      },
      "source": [
        ""
      ],
      "execution_count": null,
      "outputs": []
    }
  ]
}